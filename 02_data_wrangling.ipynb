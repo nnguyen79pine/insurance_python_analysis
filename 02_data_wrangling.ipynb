{
 "cells": [
  {
   "cell_type": "markdown",
   "id": "8302a1f4-f7a3-43da-977b-51c711f14847",
   "metadata": {},
   "source": [
    "#### 1. Load the Dataset"
   ]
  },
  {
   "cell_type": "code",
   "execution_count": 9,
   "id": "d0220f79-35f7-4f6c-b990-f87e6b072860",
   "metadata": {},
   "outputs": [
    {
     "data": {
      "text/html": [
       "<div>\n",
       "<style scoped>\n",
       "    .dataframe tbody tr th:only-of-type {\n",
       "        vertical-align: middle;\n",
       "    }\n",
       "\n",
       "    .dataframe tbody tr th {\n",
       "        vertical-align: top;\n",
       "    }\n",
       "\n",
       "    .dataframe thead th {\n",
       "        text-align: right;\n",
       "    }\n",
       "</style>\n",
       "<table border=\"1\" class=\"dataframe\">\n",
       "  <thead>\n",
       "    <tr style=\"text-align: right;\">\n",
       "      <th></th>\n",
       "      <th>Customer ID</th>\n",
       "      <th>Age</th>\n",
       "      <th>Gender</th>\n",
       "      <th>Marital Status</th>\n",
       "      <th>Occupation</th>\n",
       "      <th>Income Level</th>\n",
       "      <th>Education Level</th>\n",
       "      <th>Geographic Information</th>\n",
       "      <th>Location</th>\n",
       "      <th>Purchase History</th>\n",
       "      <th>...</th>\n",
       "      <th>Coverage Amount</th>\n",
       "      <th>Premium Amount</th>\n",
       "      <th>Deductible</th>\n",
       "      <th>Policy Type</th>\n",
       "      <th>Preferred Communication Channel</th>\n",
       "      <th>Preferred Contact Time</th>\n",
       "      <th>Risk Profile</th>\n",
       "      <th>Credit Score</th>\n",
       "      <th>Driving Record</th>\n",
       "      <th>Life Events</th>\n",
       "    </tr>\n",
       "  </thead>\n",
       "  <tbody>\n",
       "    <tr>\n",
       "      <th>0</th>\n",
       "      <td>15043</td>\n",
       "      <td>48</td>\n",
       "      <td>Female</td>\n",
       "      <td>Single</td>\n",
       "      <td>Engineer</td>\n",
       "      <td>72654</td>\n",
       "      <td>Associate Degree</td>\n",
       "      <td>Karnataka</td>\n",
       "      <td>75177</td>\n",
       "      <td>1/24/2020</td>\n",
       "      <td>...</td>\n",
       "      <td>387399</td>\n",
       "      <td>1713</td>\n",
       "      <td>1413</td>\n",
       "      <td>Group</td>\n",
       "      <td>Email</td>\n",
       "      <td>Morning</td>\n",
       "      <td>0</td>\n",
       "      <td>649</td>\n",
       "      <td>Major Violations</td>\n",
       "      <td>Divorce</td>\n",
       "    </tr>\n",
       "    <tr>\n",
       "      <th>1</th>\n",
       "      <td>88777</td>\n",
       "      <td>50</td>\n",
       "      <td>Male</td>\n",
       "      <td>Divorced</td>\n",
       "      <td>Manager</td>\n",
       "      <td>93448</td>\n",
       "      <td>Master's Degree</td>\n",
       "      <td>Karnataka</td>\n",
       "      <td>56707</td>\n",
       "      <td>1/10/2023</td>\n",
       "      <td>...</td>\n",
       "      <td>621476</td>\n",
       "      <td>2416</td>\n",
       "      <td>1383</td>\n",
       "      <td>Group</td>\n",
       "      <td>Email</td>\n",
       "      <td>Evening</td>\n",
       "      <td>2</td>\n",
       "      <td>540</td>\n",
       "      <td>Clean</td>\n",
       "      <td>Divorce</td>\n",
       "    </tr>\n",
       "    <tr>\n",
       "      <th>2</th>\n",
       "      <td>62911</td>\n",
       "      <td>53</td>\n",
       "      <td>Male</td>\n",
       "      <td>Widowed</td>\n",
       "      <td>Doctor</td>\n",
       "      <td>92558</td>\n",
       "      <td>Doctorate</td>\n",
       "      <td>Arunachal Pradesh</td>\n",
       "      <td>60225</td>\n",
       "      <td>12/12/2021</td>\n",
       "      <td>...</td>\n",
       "      <td>775683</td>\n",
       "      <td>3765</td>\n",
       "      <td>1165</td>\n",
       "      <td>Group</td>\n",
       "      <td>In-Person Meeting</td>\n",
       "      <td>Afternoon</td>\n",
       "      <td>3</td>\n",
       "      <td>573</td>\n",
       "      <td>DUI</td>\n",
       "      <td>Childbirth</td>\n",
       "    </tr>\n",
       "    <tr>\n",
       "      <th>3</th>\n",
       "      <td>38955</td>\n",
       "      <td>38</td>\n",
       "      <td>Male</td>\n",
       "      <td>Widowed</td>\n",
       "      <td>Salesperson</td>\n",
       "      <td>78536</td>\n",
       "      <td>High School Diploma</td>\n",
       "      <td>Andhra Pradesh</td>\n",
       "      <td>34707</td>\n",
       "      <td>2/1/2023</td>\n",
       "      <td>...</td>\n",
       "      <td>580924</td>\n",
       "      <td>3204</td>\n",
       "      <td>1345</td>\n",
       "      <td>Business</td>\n",
       "      <td>Email</td>\n",
       "      <td>Weekends</td>\n",
       "      <td>2</td>\n",
       "      <td>550</td>\n",
       "      <td>DUI</td>\n",
       "      <td>Marriage</td>\n",
       "    </tr>\n",
       "    <tr>\n",
       "      <th>4</th>\n",
       "      <td>3935</td>\n",
       "      <td>42</td>\n",
       "      <td>Male</td>\n",
       "      <td>Married</td>\n",
       "      <td>Salesperson</td>\n",
       "      <td>90220</td>\n",
       "      <td>High School Diploma</td>\n",
       "      <td>Puducherry</td>\n",
       "      <td>14225</td>\n",
       "      <td>2/18/2021</td>\n",
       "      <td>...</td>\n",
       "      <td>711361</td>\n",
       "      <td>2941</td>\n",
       "      <td>1111</td>\n",
       "      <td>Group</td>\n",
       "      <td>In-Person Meeting</td>\n",
       "      <td>Morning</td>\n",
       "      <td>3</td>\n",
       "      <td>568</td>\n",
       "      <td>Clean</td>\n",
       "      <td>Childbirth</td>\n",
       "    </tr>\n",
       "  </tbody>\n",
       "</table>\n",
       "<p>5 rows × 23 columns</p>\n",
       "</div>"
      ],
      "text/plain": [
       "   Customer ID  Age  Gender Marital Status   Occupation  Income Level  \\\n",
       "0        15043   48  Female         Single     Engineer         72654   \n",
       "1        88777   50    Male       Divorced      Manager         93448   \n",
       "2        62911   53    Male        Widowed       Doctor         92558   \n",
       "3        38955   38    Male        Widowed  Salesperson         78536   \n",
       "4         3935   42    Male        Married  Salesperson         90220   \n",
       "\n",
       "       Education Level Geographic Information  Location Purchase History  ...  \\\n",
       "0     Associate Degree              Karnataka     75177        1/24/2020  ...   \n",
       "1      Master's Degree              Karnataka     56707        1/10/2023  ...   \n",
       "2            Doctorate      Arunachal Pradesh     60225       12/12/2021  ...   \n",
       "3  High School Diploma         Andhra Pradesh     34707         2/1/2023  ...   \n",
       "4  High School Diploma             Puducherry     14225        2/18/2021  ...   \n",
       "\n",
       "  Coverage Amount Premium Amount  Deductible  Policy Type  \\\n",
       "0          387399           1713        1413        Group   \n",
       "1          621476           2416        1383        Group   \n",
       "2          775683           3765        1165        Group   \n",
       "3          580924           3204        1345     Business   \n",
       "4          711361           2941        1111        Group   \n",
       "\n",
       "   Preferred Communication Channel  Preferred Contact Time Risk Profile  \\\n",
       "0                            Email                 Morning            0   \n",
       "1                            Email                 Evening            2   \n",
       "2                In-Person Meeting               Afternoon            3   \n",
       "3                            Email                Weekends            2   \n",
       "4                In-Person Meeting                 Morning            3   \n",
       "\n",
       "  Credit Score    Driving Record  Life Events  \n",
       "0          649  Major Violations      Divorce  \n",
       "1          540             Clean      Divorce  \n",
       "2          573               DUI   Childbirth  \n",
       "3          550               DUI     Marriage  \n",
       "4          568             Clean   Childbirth  \n",
       "\n",
       "[5 rows x 23 columns]"
      ]
     },
     "execution_count": 9,
     "metadata": {},
     "output_type": "execute_result"
    }
   ],
   "source": [
    "import pandas as pd\n",
    "import numpy as np\n",
    "from sqlalchemy import create_engine\n",
    "from sklearn.experimental import enable_iterative_imputer \n",
    "from sklearn.impute import SimpleImputer\n",
    "from sklearn.impute import IterativeImputer\n",
    "\n",
    "# Read the CSV \n",
    "df = pd.read_csv(\"data/Insurance.csv\") \n",
    "df.head()"
   ]
  },
  {
   "cell_type": "code",
   "execution_count": 2,
   "id": "c5a1effa-871c-4884-ad23-d3c0454e7364",
   "metadata": {},
   "outputs": [
    {
     "name": "stdout",
     "output_type": "stream",
     "text": [
      "Shape: (2082, 23)\n"
     ]
    }
   ],
   "source": [
    "print(\"Shape:\", df.shape)         "
   ]
  },
  {
   "cell_type": "code",
   "execution_count": 3,
   "id": "b0fcd684-e4f3-43ac-b9a9-81c47814202e",
   "metadata": {},
   "outputs": [
    {
     "name": "stdout",
     "output_type": "stream",
     "text": [
      "<class 'pandas.core.frame.DataFrame'>\n",
      "RangeIndex: 2082 entries, 0 to 2081\n",
      "Data columns (total 23 columns):\n",
      " #   Column                           Non-Null Count  Dtype \n",
      "---  ------                           --------------  ----- \n",
      " 0   Customer ID                      2082 non-null   int64 \n",
      " 1   Age                              2082 non-null   int64 \n",
      " 2   Gender                           2082 non-null   object\n",
      " 3   Marital Status                   2082 non-null   object\n",
      " 4   Occupation                       2082 non-null   object\n",
      " 5   Income Level                     2082 non-null   int64 \n",
      " 6   Education Level                  2082 non-null   object\n",
      " 7   Geographic Information           2082 non-null   object\n",
      " 8   Location                         2082 non-null   int64 \n",
      " 9   Purchase History                 2082 non-null   object\n",
      " 10  Policy Start Date                2082 non-null   object\n",
      " 11  Policy Renewal Date              2082 non-null   object\n",
      " 12  Claim History                    2082 non-null   int64 \n",
      " 13  Coverage Amount                  2082 non-null   int64 \n",
      " 14  Premium Amount                   2082 non-null   int64 \n",
      " 15  Deductible                       2082 non-null   int64 \n",
      " 16  Policy Type                      2082 non-null   object\n",
      " 17  Preferred Communication Channel  2082 non-null   object\n",
      " 18  Preferred Contact Time           2082 non-null   object\n",
      " 19  Risk Profile                     2082 non-null   int64 \n",
      " 20  Credit Score                     2082 non-null   int64 \n",
      " 21  Driving Record                   2082 non-null   object\n",
      " 22  Life Events                      2082 non-null   object\n",
      "dtypes: int64(10), object(13)\n",
      "memory usage: 374.2+ KB\n",
      "None\n"
     ]
    }
   ],
   "source": [
    "print(df.info())"
   ]
  },
  {
   "cell_type": "markdown",
   "id": "4709b854-a98b-4538-bb09-925cbf7eb752",
   "metadata": {},
   "source": [
    "#### 2. Identify & Remove Inconsistent Entries"
   ]
  },
  {
   "cell_type": "markdown",
   "id": "0fef13ba-06ab-4d56-bc3a-01059b8feda0",
   "metadata": {},
   "source": [
    "Examples of “inconsistency” include impossible ages, negative premiums, or unexpected categories."
   ]
  },
  {
   "cell_type": "code",
   "execution_count": 4,
   "id": "dc5efc8f-c822-4eb7-a2b4-0d6066d13146",
   "metadata": {},
   "outputs": [
    {
     "name": "stdout",
     "output_type": "stream",
     "text": [
      "Age range: 27 to 63\n",
      "Premium range: 600 to 4800\n",
      "\n",
      "Unique values in Gender: ['Female', 'Male']\n",
      "\n",
      "Unique values in Marital Status: ['Divorced', 'Married', 'Separated', 'Single', 'Widowed']\n",
      "\n",
      "Unique values in Policy Type: ['Business', 'Family', 'Group', 'Individual']\n"
     ]
    }
   ],
   "source": [
    "# Quick sanity checks\n",
    "print(\"Age range:\", df['Age'].min(), \"to\", df['Age'].max())\n",
    "print(\"Premium range:\", df['Premium Amount'].min(), \"to\", df['Premium Amount'].max())\n",
    "\n",
    "# Remove impossible values\n",
    "df = df[df['Age'].between(18, 100)]\n",
    "df = df[df['Premium Amount'] > 0]\n",
    "df = df[df['Coverage Amount'] > 0]\n",
    "\n",
    "# Check category typos \n",
    "for col in ['Gender','Marital Status','Policy Type']:\n",
    "    print(f\"\\nUnique values in {col}:\", sorted(df[col].unique()))"
   ]
  },
  {
   "cell_type": "markdown",
   "id": "82bc2b19-355f-43b7-9787-b288165afd81",
   "metadata": {},
   "source": [
    "Rows with negative premiums, zero coverage, or unrealistic ages are dropped.\n",
    "For text fields, reviewing unique values helps spot typos or inconsistent casing."
   ]
  },
  {
   "cell_type": "markdown",
   "id": "1cfe1472-6757-4c82-9fbd-5c0b60472e25",
   "metadata": {},
   "source": [
    "#### 3. Handle Missing Values"
   ]
  },
  {
   "cell_type": "code",
   "execution_count": 11,
   "id": "cd27ca2d-401e-480c-9832-e2089ae90819",
   "metadata": {},
   "outputs": [
    {
     "name": "stdout",
     "output_type": "stream",
     "text": [
      "Missing values after imputation:\n",
      " 0\n"
     ]
    }
   ],
   "source": [
    "# Numeric columns\n",
    "num_cols = df.select_dtypes(include=[np.number]).columns\n",
    "# Simple median imputation\n",
    "median_imputer = SimpleImputer(strategy='median')\n",
    "df[num_cols] = median_imputer.fit_transform(df[num_cols])\n",
    "\n",
    "# Categorical columns\n",
    "cat_cols = df.select_dtypes(exclude=[np.number]).columns\n",
    "mode_imputer = SimpleImputer(strategy='most_frequent')\n",
    "df[cat_cols] = mode_imputer.fit_transform(df[cat_cols])\n",
    "\n",
    "print(\"Missing values after imputation:\\n\", df.isnull().sum().sum())"
   ]
  },
  {
   "cell_type": "markdown",
   "id": "64a5e3b3-cb29-43ae-92d5-01bf0ccf2282",
   "metadata": {},
   "source": [
    "For number columns, missing values are first filled with the median of that column.\n",
    "Then an Iterative Imputer goes back and improves those numbers by predicting each column based on the others.\n",
    "For text or category columns, missing values are filled with the most common category in that column."
   ]
  },
  {
   "cell_type": "markdown",
   "id": "408c08bb-ba17-4aee-a2d1-7fe66324f5ec",
   "metadata": {},
   "source": [
    "#### 4. Encode Categorical Variables"
   ]
  },
  {
   "cell_type": "markdown",
   "id": "85c5a424-cb6a-4512-8c3d-6242ef9e63d9",
   "metadata": {},
   "source": [
    "Encoding converts text categories to numbers for analysis or machine learning."
   ]
  },
  {
   "cell_type": "code",
   "execution_count": 13,
   "id": "c71da3d2-7ab2-4c8c-8312-e78c3cd68a42",
   "metadata": {},
   "outputs": [
    {
     "name": "stdout",
     "output_type": "stream",
     "text": [
      "Encoded shape: (2082, 38)\n"
     ]
    }
   ],
   "source": [
    "# One-Hot Encode high-cardinality fields carefully\n",
    "df_encoded = pd.get_dummies(df, \n",
    "                            columns=['Gender','Marital Status','Occupation',\n",
    "                                     'Education Level','Policy Type'],\n",
    "                            drop_first=True)\n",
    "print(\"Encoded shape:\", df_encoded.shape)"
   ]
  },
  {
   "cell_type": "markdown",
   "id": "e79d2a0f-0fd1-4ce7-9f64-e59bde9e1648",
   "metadata": {},
   "source": [
    "Each category becomes a binary column (1 or 0), enabling numeric analysis."
   ]
  },
  {
   "cell_type": "markdown",
   "id": "2d37ce7c-6084-443a-989f-e1d15ca8eda1",
   "metadata": {},
   "source": [
    "#### 5. Feature Scaling & Transformation"
   ]
  },
  {
   "cell_type": "markdown",
   "id": "4fad2a50-0d70-4533-a422-c36e3e7ec1ec",
   "metadata": {},
   "source": [
    "Normalize or standardize numeric features to comparable ranges."
   ]
  },
  {
   "cell_type": "code",
   "execution_count": 15,
   "id": "b15d3c45-959e-4029-8496-a56ed249e0b3",
   "metadata": {},
   "outputs": [],
   "source": [
    "from sklearn.preprocessing import StandardScaler, MinMaxScaler\n",
    "scaler = StandardScaler() \n",
    "\n",
    "scale_cols = ['Premium Amount','Coverage Amount','Deductible','Income Level','Credit Score','Age']\n",
    "df_encoded[scale_cols] = scaler.fit_transform(df_encoded[scale_cols])"
   ]
  },
  {
   "cell_type": "markdown",
   "id": "58721378-ee1c-4088-968e-6a8a83c80e9e",
   "metadata": {},
   "source": [
    "StandardScaler centers data to mean 0, std 1—helpful for models like logistic regression.\n",
    "Log transforms reduce skew for heavily right-tailed columns (e.g., Premium)."
   ]
  },
  {
   "cell_type": "markdown",
   "id": "65a94d0d-67be-470f-8671-c22f09636dbe",
   "metadata": {},
   "source": [
    "### 6. Final Check"
   ]
  },
  {
   "cell_type": "code",
   "execution_count": 18,
   "id": "a0ed21e2-404a-4605-aaad-a3873f8966f5",
   "metadata": {},
   "outputs": [
    {
     "name": "stdout",
     "output_type": "stream",
     "text": [
      "Final shape: (2082, 38)\n",
      "Any remaining missing values 0\n"
     ]
    }
   ],
   "source": [
    "print(\"Final shape:\", df_encoded.shape)\n",
    "print(\"Any remaining missing values\", df_encoded.isnull().sum().sum())\n"
   ]
  },
  {
   "cell_type": "markdown",
   "id": "0e769e4b-5142-4099-99b7-2847cd131ed8",
   "metadata": {},
   "source": [
    "### Data Wrangling Summary\n",
    "- Removed unrealistic ages, negative premiums, and other inconsistencies  \n",
    "- Imputed missing numeric values using both median and iterative multiple imputation;  \n",
    "  categorical fields filled with the most frequent category  \n",
    "- Encoded categorical variables with one-hot encoding for modeling readiness  \n",
    "- Scaled and transformed numeric features (standardization and optional log transform)  \n",
    "  to improve comparability and reduce skewness\n"
   ]
  },
  {
   "cell_type": "code",
   "execution_count": 19,
   "id": "32c290ac-78b4-4e3a-a4d5-01f3d6e6a90a",
   "metadata": {},
   "outputs": [],
   "source": [
    "# Save the cleaned, encoded, and scaled dataset\n",
    "df_encoded.to_csv(\"data/Insurance_cleaned.csv\", index=False)"
   ]
  }
 ],
 "metadata": {
  "kernelspec": {
   "display_name": "Python 3 (ipykernel)",
   "language": "python",
   "name": "python3"
  },
  "language_info": {
   "codemirror_mode": {
    "name": "ipython",
    "version": 3
   },
   "file_extension": ".py",
   "mimetype": "text/x-python",
   "name": "python",
   "nbconvert_exporter": "python",
   "pygments_lexer": "ipython3",
   "version": "3.12.5"
  }
 },
 "nbformat": 4,
 "nbformat_minor": 5
}
